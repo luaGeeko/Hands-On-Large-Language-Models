{
  "nbformat": 4,
  "nbformat_minor": 0,
  "metadata": {
    "colab": {
      "provenance": [],
      "authorship_tag": "ABX9TyNWXTgd6vT0BIKMmZihHO83",
      "include_colab_link": true
    },
    "kernelspec": {
      "name": "python3",
      "display_name": "Python 3"
    },
    "language_info": {
      "name": "python"
    }
  },
  "cells": [
    {
      "cell_type": "markdown",
      "metadata": {
        "id": "view-in-github",
        "colab_type": "text"
      },
      "source": [
        "<a href=\"https://colab.research.google.com/github/luaGeeko/Hands-On-Large-Language-Models/blob/main/Word2Vec_SkipGram%26CBOW.ipynb\" target=\"_parent\"><img src=\"https://colab.research.google.com/assets/colab-badge.svg\" alt=\"Open In Colab\"/></a>"
      ]
    },
    {
      "cell_type": "code",
      "execution_count": 13,
      "metadata": {
        "id": "uxGkoP_20Lsg"
      },
      "outputs": [],
      "source": [
        "import os\n",
        "import numpy as np\n",
        "from collections import Counter"
      ]
    },
    {
      "cell_type": "code",
      "source": [
        "corpus = [\n",
        "  \"the dog chased the cat\",\n",
        "  \"the cat climbed the tree\",\n",
        "  \"dogs and cats are good pets\",\n",
        "  \"my dog likes to play with a ball\",\n",
        "  \"the cat sleeps on the sofa\",\n",
        "  \"a puppy is a young dog\",\n",
        "  \"kittens are small and playful\",\n",
        "  \"the pet store sells food for cats and dogs\",\n",
        "  \"my dog loves running in the park\",\n",
        "  \"cats enjoy sleeping in the sun\",\n",
        "]"
      ],
      "metadata": {
        "id": "HzBMmPBc1Azw"
      },
      "execution_count": 8,
      "outputs": []
    },
    {
      "cell_type": "markdown",
      "source": [
        "Build Vocab and Distribution - Tokenziation"
      ],
      "metadata": {
        "id": "ftL01bUa3ecM"
      }
    },
    {
      "cell_type": "code",
      "source": [
        "# create vocabulary based on our corpus data\n",
        "tokens = []\n",
        "for sentence in corpus:\n",
        "  tokens.extend(sentence.lower().split())\n",
        "sorted_vocab = sorted(set(tokens))\n",
        "print(f\"built the vocab of size {len(sorted_vocab)}\")"
      ],
      "metadata": {
        "colab": {
          "base_uri": "https://localhost:8080/"
        },
        "id": "cB-34zHP2Wew",
        "outputId": "f8e6783a-33e3-4b98-a6c4-3a150ed3afcb"
      },
      "execution_count": 12,
      "outputs": [
        {
          "output_type": "stream",
          "name": "stdout",
          "text": [
            "built the vocab of size 40\n"
          ]
        }
      ]
    },
    {
      "cell_type": "code",
      "source": [
        "# compute distribution of the words\n",
        "# we first to have how many times each word is present in our corpus data\n",
        "word_frequency = Counter(tokens)\n",
        "print(word_frequency)"
      ],
      "metadata": {
        "colab": {
          "base_uri": "https://localhost:8080/"
        },
        "id": "ZHyJloTo357D",
        "outputId": "ed2dbbf4-6400-42da-ba2c-63d808c6bdfa"
      },
      "execution_count": 14,
      "outputs": [
        {
          "output_type": "stream",
          "name": "stdout",
          "text": [
            "Counter({'the': 9, 'dog': 4, 'cat': 3, 'and': 3, 'cats': 3, 'a': 3, 'dogs': 2, 'are': 2, 'my': 2, 'in': 2, 'chased': 1, 'climbed': 1, 'tree': 1, 'good': 1, 'pets': 1, 'likes': 1, 'to': 1, 'play': 1, 'with': 1, 'ball': 1, 'sleeps': 1, 'on': 1, 'sofa': 1, 'puppy': 1, 'is': 1, 'young': 1, 'kittens': 1, 'small': 1, 'playful': 1, 'pet': 1, 'store': 1, 'sells': 1, 'food': 1, 'for': 1, 'loves': 1, 'running': 1, 'park': 1, 'enjoy': 1, 'sleeping': 1, 'sun': 1})\n"
          ]
        }
      ]
    },
    {
      "cell_type": "code",
      "source": [
        "# now we need the mapping dict from word --> id and vice versa\n",
        "vocab_to_id = {word: idx for idx, word in enumerate(sorted_vocab)}\n",
        "id_to_vocab = {idx: word for idx, word in enumerate(sorted_vocab)}"
      ],
      "metadata": {
        "id": "pBs186jd6Fzl"
      },
      "execution_count": 15,
      "outputs": []
    },
    {
      "cell_type": "code",
      "source": [],
      "metadata": {
        "id": "OHmyXiLa67Wj"
      },
      "execution_count": null,
      "outputs": []
    }
  ]
}